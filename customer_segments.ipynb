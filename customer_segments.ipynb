{
 "cells": [
  {
   "cell_type": "markdown",
   "metadata": {},
   "source": [
    "# Creating Customer Segments"
   ]
  },
  {
   "cell_type": "markdown",
   "metadata": {},
   "source": [
    "In this project you, will analyze a dataset containing annual spending amounts for internal structure, to understand the variation in the different types of customers that a wholesale distributor interacts with.\n",
    "\n",
    "Instructions:\n",
    "\n",
    "- Run each code block below by pressing **Shift+Enter**, making sure to implement any steps marked with a TODO.\n",
    "- Answer each question in the space provided by editing the blocks labeled \"Answer:\".\n",
    "- When you are done, submit the completed notebook (.ipynb) with all code blocks executed, as well as a .pdf version (File > Download as)."
   ]
  },
  {
   "cell_type": "code",
   "execution_count": 65,
   "metadata": {
    "collapsed": false
   },
   "outputs": [
    {
     "name": "stdout",
     "output_type": "stream",
     "text": [
      "Dataset has 440 rows, 6 columns\n",
      "   Fresh  Milk  Grocery  Frozen  Detergents_Paper  Delicatessen\n",
      "0  12669  9656     7561     214              2674          1338\n",
      "1   7057  9810     9568    1762              3293          1776\n",
      "2   6353  8808     7684    2405              3516          7844\n",
      "3  13265  1196     4221    6404               507          1788\n",
      "4  22615  5410     7198    3915              1777          5185\n"
     ]
    }
   ],
   "source": [
    "# Import libraries: NumPy, pandas, matplotlib\n",
    "import numpy as np\n",
    "import pandas as pd\n",
    "import matplotlib.pyplot as plt\n",
    "\n",
    "# Tell iPython to include plots inline in the notebook\n",
    "%matplotlib inline\n",
    "\n",
    "# Read dataset\n",
    "data = pd.read_csv(\"wholesale-customers.csv\")\n",
    "print \"Dataset has {} rows, {} columns\".format(*data.shape)\n",
    "print data.head()  # print the first 5 rows"
   ]
  },
  {
   "cell_type": "markdown",
   "metadata": {},
   "source": [
    "##Feature Transformation"
   ]
  },
  {
   "cell_type": "markdown",
   "metadata": {},
   "source": [
    "**1)** In this section you will be using PCA and ICA to start to understand the structure of the data. Before doing any computations, what do you think will show up in your computations? List one or two ideas for what might show up as the first PCA dimensions, or what type of vectors will show up as ICA dimensions."
   ]
  },
  {
   "cell_type": "markdown",
   "metadata": {},
   "source": [
    "Answer:\n",
    "The top two dimensions with highest standard deviation are Fresh(12647) and Grocery(9503). Since standard deviation is a measure of spread (variance), my expectation is that these two dimensions will be major components in the first two PCA dimensions.\n",
    "\n",
    "The vectors showing up as ICA dimensions will be the non-overlapping items purchased by the customers. The vectors should represent item purchases (and customer profiles) that are independent from each other."
   ]
  },
  {
   "cell_type": "markdown",
   "metadata": {},
   "source": [
    "###PCA"
   ]
  },
  {
   "cell_type": "code",
   "execution_count": 66,
   "metadata": {
    "collapsed": false
   },
   "outputs": [
    {
     "name": "stdout",
     "output_type": "stream",
     "text": [
      "PCA Components: \n",
      "[[ 0.97653685  0.12118407  0.06154039  0.15236462 -0.00705417  0.06810471]\n",
      " [ 0.11061386 -0.51580216 -0.76460638  0.01872345 -0.36535076 -0.05707921]\n",
      " [-0.17855726  0.50988675 -0.27578088  0.71420037 -0.20440987  0.28321747]\n",
      " [ 0.04187648  0.64564047 -0.37546049 -0.64629232 -0.14938013  0.02039579]\n",
      " [-0.015986   -0.20323566  0.1602915  -0.22018612 -0.20793016  0.91707659]\n",
      " [ 0.01576316 -0.03349187 -0.41093894  0.01328898  0.87128428  0.26541687]]\n",
      "PCA Explained Variance Ratio: \n",
      "[ 0.45961362  0.40517227  0.07003008  0.04402344  0.01502212  0.00613848]\n"
     ]
    },
    {
     "data": {
      "image/png": "[encoded data removed]",
      "text/plain": [
       "<matplotlib.figure.Figure at 0x10cde8110>"
      ]
     },
     "metadata": {},
     "output_type": "display_data"
    }
   ],
   "source": [
    "# TODO: Apply PCA with the same number of dimensions as variables in the dataset\n",
    "from sklearn.decomposition import PCA\n",
    "pca = PCA(n_components=6)\n",
    "pca.fit(data)\n",
    "\n",
    "# Print the components and the amount of variance in the data contained in each dimension\n",
    "print \"PCA Components: \\n{}\" .format(pca.components_)\n",
    "print \"PCA Explained Variance Ratio: \\n{}\" .format(pca.explained_variance_ratio_)\n",
    "x = np.array([1, 2, 3, 4, 5, 6])\n",
    "plt.plot(x, pca.explained_variance_ratio_, 'bx-') \n",
    "plt.xlabel('PCA Dimensions') \n",
    "plt.ylabel('Variance') \n",
    "plt.title('Selecting PCA Dimensions') \n",
    "plt.show()"
   ]
  },
  {
   "cell_type": "markdown",
   "metadata": {},
   "source": [
    "**2)** How quickly does the variance drop off by dimension? If you were to use PCA on this dataset, how many dimensions would you choose for your analysis? Why?"
   ]
  },
  {
   "cell_type": "markdown",
   "metadata": {
    "collapsed": true
   },
   "source": [
    "Answer: \n",
    "Based on the 'explained variance ratio', we note that the first two dimensions represent about 46% and 41% of the variance respectively. The variance in the third dimension drops off to 7%.\n",
    "Since the first two dimensions contain about 87% of the variance, two dimensions is a good cut off point."
   ]
  },
  {
   "cell_type": "markdown",
   "metadata": {},
   "source": [
    "**3)** What do the dimensions seem to represent? How can you use this information?"
   ]
  },
  {
   "cell_type": "markdown",
   "metadata": {
    "collapsed": true
   },
   "source": [
    "Answer: The first dimension has a covariance of 98% with the 'Fresh' feature. So, the first dimension primarily represents this feature. It also includes some representation from 'Milk' (12%) and 'Frozen' (15%).\n",
    "\n",
    "The second dimension has a covariance of -76%, -52% & -37% with 'Grocery', 'Milk' & 'Detergents_Paper' features. So, the second dimension is primarily a combination of these three features.\n",
    "\n",
    "After reducing the data to 2 dimensions, this information can be used to label the PCA dimensions. This will allow the interpretation of the PCA data and plots in terms of the grocery items. \n",
    "\n",
    "The other observation is that:\n",
    "* The purchase of the 'Fresh' items is fairly independent with a little overlap with 'Frozen' & 'Milk' items.\n",
    "* The purchase of 'Grocery' items overlaps more with 'Milk' and 'Detergents_Paper'."
   ]
  },
  {
   "cell_type": "markdown",
   "metadata": {},
   "source": [
    "###ICA"
   ]
  },
  {
   "cell_type": "code",
   "execution_count": 160,
   "metadata": {
    "collapsed": false
   },
   "outputs": [
    {
     "name": "stdout",
     "output_type": "stream",
     "text": [
      "ICA Components\n",
      "[[ -1.60000000e-07  -9.81000000e-06   5.92000000e-06   3.40000000e-07\n",
      "   -3.63000000e-06   6.02000000e-06]\n",
      " [ -3.90000000e-07  -2.10000000e-07  -5.90000000e-07  -5.10000000e-07\n",
      "    5.00000000e-07   1.80800000e-05]\n",
      " [ -8.60000000e-07  -1.50000000e-07   7.80000000e-07   1.11500000e-05\n",
      "   -5.40000000e-07  -5.97000000e-06]\n",
      " [ -3.98000000e-06   8.90000000e-07   7.50000000e-07   6.70000000e-07\n",
      "   -2.33000000e-06   9.70000000e-07]\n",
      " [  2.00000000e-07  -1.77000000e-06   7.21000000e-06   3.10000000e-07\n",
      "   -2.62000000e-06  -1.83000000e-06]\n",
      " [ -2.70000000e-07   2.53000000e-06   1.15500000e-05  -1.49000000e-06\n",
      "   -2.80400000e-05  -5.71000000e-06]]\n",
      "Normalized ICA Components\n",
      "[[-0.012 -0.73   0.44   0.025 -0.27   0.448]\n",
      " [-0.021 -0.012 -0.033 -0.028  0.028  0.998]\n",
      " [-0.068 -0.012  0.061  0.877 -0.042 -0.469]\n",
      " [-0.812  0.181  0.153  0.137 -0.476  0.198]\n",
      " [ 0.025 -0.219  0.891  0.038 -0.324 -0.226]\n",
      " [-0.009  0.082  0.373 -0.048 -0.905 -0.184]]\n"
     ]
    }
   ],
   "source": [
    "# TODO: Fit an ICA model to the data\n",
    "# Note: Adjust the data to have center at the origin first!\n",
    "from sklearn.decomposition import FastICA\n",
    "from sklearn.preprocessing import scale\n",
    "\n",
    "ica = FastICA(n_components=6, whiten=True)\n",
    "unmixing        = ica.fit_transform(data)\n",
    "scaled_unmixing = np.apply_along_axis(lambda x: x/np.linalg.norm(x), 1, ica.components_) \n",
    "print \"ICA Components\"\n",
    "print np.around(ica.components_, 8)\n",
    "print \"Normalized ICA Components\"\n",
    "print np.around(scaled_unmixing, 3)"
   ]
  },
  {
   "cell_type": "markdown",
   "metadata": {},
   "source": [
    "**4)** For each vector in the ICA decomposition, write a sentence or two explaining what sort of object or property it corresponds to. What could these components be used for?"
   ]
  },
  {
   "cell_type": "markdown",
   "metadata": {
    "collapsed": true
   },
   "source": [
    "Answer: \n",
    "In this dataset ICA is used to uncover non-overlapping items (item combinations) purchased by the customers. The vectors should represent item purchases (and customer profiles) that are independent from each other.\n",
    "\n",
    "The 6 independent customer purchase profiles are:\n",
    "1. Cafe - Milk(0.73) is the primary purchase. Detergents_Paper(0.27) is a secondary purchase. Inverse correlation with rest of the categories.\n",
    "2. Delicatessen store - Delicatessen(0.998) is the primary purchase. Negligible purchase of other categories.\n",
    "3. Meat store / Ice Cream store - Frozen(0.877) is the primary purchase. Inverse correlation with Delicatessen. Negligible purchase of other categories.\n",
    "4. Fruit store - Fresh(0.812) is the primary purchase. Detergents_Paper(0.476) is a secondary purchase. Inverse correlation with all other categories.\n",
    "5. Grocery store - Grocery(0.891) is the primary purchase. Negligible or Inverse correlation with the rest of categories.\n",
    "6. Hotel/Inn - Detergents_Paper(0.905) is the primary purchase. Delicatessen(0.184), Frozen(0.048) are secondary purchases.\n",
    "\n"
   ]
  },
  {
   "cell_type": "markdown",
   "metadata": {},
   "source": [
    "##Clustering\n",
    "\n",
    "In this section you will choose either K Means clustering or Gaussian Mixed Models clustering, which implements expectation-maximization. Then you will sample elements from the clusters to understand their significance."
   ]
  },
  {
   "cell_type": "markdown",
   "metadata": {},
   "source": [
    "###Choose a Cluster Type\n",
    "\n",
    "**5)** What are the advantages of using K Means clustering or Gaussian Mixture Models?"
   ]
  },
  {
   "cell_type": "markdown",
   "metadata": {},
   "source": [
    "Answer: \n",
    "K Means clustering performs a hard assignment to a cluster. GMM uses a soft assignment (probability value).\n",
    "The other difference is that the K Means algorithm does not compute the covariance matrix. K means algorithm is expected to converge faster.\n",
    "\n",
    "In this project, we are trying to create clusters of customers to interpret their buying habits. We need an algorithm that makes hard assignments - A customer as a whole should belong to one cluster (instead of being split across multiple clusters). K Means is a good choice for this reason."
   ]
  },
  {
   "cell_type": "markdown",
   "metadata": {},
   "source": [
    "**6)** Below is some starter code to help you visualize some cluster data. The visualization is based on [this demo](http://scikit-learn.org/stable/auto_examples/cluster/plot_kmeans_digits.html) from the sklearn documentation."
   ]
  },
  {
   "cell_type": "code",
   "execution_count": 68,
   "metadata": {
    "collapsed": true
   },
   "outputs": [],
   "source": [
    "# Import clustering modules\n",
    "from sklearn.cluster import KMeans\n",
    "from sklearn.mixture import GMM"
   ]
  },
  {
   "cell_type": "code",
   "execution_count": 69,
   "metadata": {
    "collapsed": false
   },
   "outputs": [
    {
     "name": "stdout",
     "output_type": "stream",
     "text": [
      "[[   650.02212207  -1585.51909007]\n",
      " [ -4426.80497937  -4042.45150884]\n",
      " [ -4841.9987068   -2578.762176  ]\n",
      " [   990.34643689   6279.80599663]\n",
      " [ 10657.99873116   2159.72581518]\n",
      " [ -2765.96159271    959.87072713]\n",
      " [  -715.55089221   2013.00226567]\n",
      " [ -4474.58366697  -1429.49697204]\n",
      " [ -6712.09539718   2205.90915598]\n",
      " [ -4823.63435407 -13480.55920489]]\n"
     ]
    }
   ],
   "source": [
    "# TODO: First we reduce the data to two dimensions using PCA to capture variation\n",
    "pca2 = PCA(n_components=2)\n",
    "reduced_data = pca2.fit_transform(data)\n",
    "print reduced_data[:10]  # print upto 10 elements"
   ]
  },
  {
   "cell_type": "code",
   "execution_count": 156,
   "metadata": {
    "collapsed": false
   },
   "outputs": [
    {
     "data": {
      "image/png": "[encoded data removed]",
      "text/plain": [
       "<matplotlib.figure.Figure at 0x10fa44bd0>"
      ]
     },
     "metadata": {},
     "output_type": "display_data"
    },
    {
     "name": "stdout",
     "output_type": "stream",
     "text": [
      "KMeans(copy_x=True, init='k-means++', max_iter=300, n_clusters=6, n_init=10,\n",
      "    n_jobs=1, precompute_distances='auto', random_state=None, tol=0.0001,\n",
      "    verbose=0)\n"
     ]
    }
   ],
   "source": [
    "# TODO: Implement your clustering algorithm here, and fit it to the reduced data for visualization\n",
    "# The visualizer below assumes your clustering object is named 'clusters'\n",
    "\n",
    "# Implement elbow method to determine n_clusters\n",
    "from scipy.spatial.distance import cdist\n",
    "\n",
    "K = range(1, 10) \n",
    "meandistortions = [] \n",
    "for k in K: \n",
    "     kmeans = KMeans(n_clusters=k) \n",
    "     kmeans.fit(reduced_data) \n",
    "     meandistortions.append(sum(np.min(cdist(reduced_data, kmeans.cluster_centers_, 'euclidean'), axis=1)) / reduced_data.shape[0]) \n",
    "\n",
    "plt.plot(K, meandistortions, 'bx-') \n",
    "plt.xlabel('k') \n",
    "plt.ylabel('Average distortion') \n",
    "plt.title('Selecting k with the Elbow Method') \n",
    "plt.show()\n",
    "\n",
    "# Derived n_clusters=6 from Elbow Plot \n",
    "clusters = KMeans(n_clusters=6)\n",
    "clusters.fit(reduced_data)\n",
    "print clusters"
   ]
  },
  {
   "cell_type": "code",
   "execution_count": 157,
   "metadata": {
    "collapsed": false
   },
   "outputs": [],
   "source": [
    "# Plot the decision boundary by building a mesh grid to populate a graph.\n",
    "x_min, x_max = reduced_data[:, 0].min() - 1, reduced_data[:, 0].max() + 1\n",
    "y_min, y_max = reduced_data[:, 1].min() - 1, reduced_data[:, 1].max() + 1\n",
    "hx = (x_max-x_min)/1000.\n",
    "hy = (y_max-y_min)/1000.\n",
    "xx, yy = np.meshgrid(np.arange(x_min, x_max, hx), np.arange(y_min, y_max, hy))\n",
    "\n",
    "# Obtain labels for each point in mesh. Use last trained model.\n",
    "Z = clusters.predict(np.c_[xx.ravel(), yy.ravel()])"
   ]
  },
  {
   "cell_type": "code",
   "execution_count": 161,
   "metadata": {
    "collapsed": false,
    "scrolled": true
   },
   "outputs": [
    {
     "name": "stdout",
     "output_type": "stream",
     "text": [
      "Centroids transformed back to original space:\n",
      "[[  6581.   2140.   3262.   2235.    867.    782.]\n",
      " [ 48846.   7374.   5909.   8829.    553.   3728.]\n",
      " [ 24861.  43834.  61861.   4978.  27877.   6881.]\n",
      " [  6593.  17980.  26341.   2193.  11770.   2721.]\n",
      " [ 21301.   4450.   4895.   4530.   1093.   1868.]\n",
      " [  4315.   8293.  12495.   1863.   5313.   1411.]]\n",
      "Scaled Centroids in original space:\n",
      "[[ 0.81698  0.26568  0.40499  0.27741  0.10758  0.09706]\n",
      " [ 0.96402  0.14552  0.11662  0.17425  0.01092  0.07358]\n",
      " [ 0.29267  0.51603  0.72826  0.0586   0.32818  0.081  ]\n",
      " [ 0.18944  0.5166   0.75683  0.063    0.33818  0.07817]\n",
      " [ 0.9317   0.19465  0.21408  0.19814  0.04781  0.08169]\n",
      " [ 0.25918  0.4981   0.75046  0.11191  0.31908  0.08475]]\n"
     ]
    }
   ],
   "source": [
    "# TODO: Find the centroids for KMeans or the cluster means for GMM \n",
    "\n",
    "centroids = clusters.cluster_centers_\n",
    "centroids_inv = pca2.inverse_transform(centroids)\n",
    "print \"Centroids transformed back to original space:\"\n",
    "print np.around(centroids_inv, 0)\n",
    "\n",
    "print \"Scaled Centroids in original space:\"\n",
    "scaled_centroids_inv = np.apply_along_axis(lambda x: x/np.linalg.norm(x), 1, centroids_inv) \n",
    "print np.around(scaled_centroids_inv, 5)"
   ]
  },
  {
   "cell_type": "code",
   "execution_count": 162,
   "metadata": {
    "collapsed": false
   },
   "outputs": [
    {
     "data": {
      "image/png": "[encoded data removed]",
      "text/plain": [
       "<matplotlib.figure.Figure at 0x10fbcf190>"
      ]
     },
     "metadata": {},
     "output_type": "display_data"
    }
   ],
   "source": [
    "# Put the result into a color plot\n",
    "Z = Z.reshape(xx.shape)\n",
    "plt.figure(1)\n",
    "plt.clf()\n",
    "plt.imshow(Z, interpolation='nearest',\n",
    "           extent=(xx.min(), xx.max(), yy.min(), yy.max()),\n",
    "           cmap=plt.cm.Paired,\n",
    "           aspect='auto', origin='lower')\n",
    "\n",
    "plt.plot(reduced_data[:, 0], reduced_data[:, 1], 'k.', markersize=2)\n",
    "plt.scatter(centroids[:, 0], centroids[:, 1],\n",
    "            marker='x', s=169, linewidths=3,\n",
    "            color='w', zorder=10)\n",
    "plt.title('Clustering on the wholesale grocery dataset (PCA-reduced data)\\n'\n",
    "          'Centroids are marked with white cross')\n",
    "plt.xlabel('PC1 = 0.98*Fresh + 0.15*Frozen') \n",
    "plt.ylabel('PC2 = 0.76*Grocery + 0.52*Milk + 0.37*Detergents')\n",
    "plt.xlim(x_min, x_max)\n",
    "# Invert y-axis so that bottom left is the origin\n",
    "plt.ylim(y_max, y_min)\n",
    "plt.xticks(())\n",
    "plt.yticks(())\n",
    "plt.show()"
   ]
  },
  {
   "cell_type": "markdown",
   "metadata": {},
   "source": [
    "**7)** What are the central objects in each cluster? Describe them as customers."
   ]
  },
  {
   "cell_type": "markdown",
   "metadata": {
    "collapsed": true
   },
   "source": [
    "Answer: Each cluster can be treated as a category of customers. The customer(s) closest to the central object of each cluster (centroid) is a 'representative customer' for that category. The feedback from these 'representative customers' can be used to set an expectation for the category represented by them.\n",
    "\n",
    "The cluster visualization can be used to categorize customers as follows:\n",
    "\n",
    "1. Purchase Size: Clusters closest to the bottom left represent smaller customers and clusters closest to the top right represent the larger customers.\n",
    "\n",
    "2. Purchase Categories: Cluster location can be used to interpret relative amount of purchased products. For example: Clusters closest to the PC1 axis purchase lesser amount of Grocery, Milk & Detergents than those clusters that are further away."
   ]
  },
  {
   "cell_type": "markdown",
   "metadata": {},
   "source": [
    "###Conclusions\n",
    "\n",
    "** 8)** Which of these techniques did you feel gave you the most insight into the data?"
   ]
  },
  {
   "cell_type": "markdown",
   "metadata": {
    "collapsed": true
   },
   "source": [
    "Answer: \n",
    "ICA resulted in identifying and labeling customer profiles that were distinct from each other. However, this method did not focus on reducing the number of dimensions. This left the data in the original 6 dimensions which does not lend itself to easy visualization. The labeling of customer profiles required some imagination and may not be completely reliable. \n",
    "\n",
    "PCA along with clustering allowed for a clear visualization of all the customers in a 2D plot. The centroid calculations were useful to identify 'representative customers' that could be used to set the expectation of other customers in their category.\n",
    "\n",
    "The PCA + clustering technique gives me more confidence in understanding the range of customers being served. The identification of 'representative customers' in each category provides a simpler way to poll the customer base and receive feedback."
   ]
  },
  {
   "cell_type": "markdown",
   "metadata": {
    "collapsed": true
   },
   "source": [
    "**9)** How would you use that technique to help the company design new experiments?"
   ]
  },
  {
   "cell_type": "markdown",
   "metadata": {},
   "source": [
    "Answer: A/B testing is a methodology that can be used to design experiments to receive feedback before rolling out service/product changes to the entire customer base.\n",
    "\n",
    "In this method two variations (example: old & new) of the service/product are  provided. We can then compare how customers within the same category (cluster) react to each variant. If the customer base has been properly categorized (clustered), this method may help identify unique requirements of each customer category. The business can then make service/product changes to target each category accordingly. "
   ]
  },
  {
   "cell_type": "markdown",
   "metadata": {},
   "source": [
    "**10)** How would you use that data to help you predict future customer needs?"
   ]
  },
  {
   "cell_type": "markdown",
   "metadata": {},
   "source": [
    "Answer: PCA allowed the data to be reduced from 6 dimensions to 2 while retaining 87% of the variance. For future supervised learning analysis, we have the option of using these 2 reduced dimensions as features.\n",
    "\n",
    "While selecting a training set, care should be taken to have adequate & balanced representation from each category (cluster)."
   ]
  },
  {
   "cell_type": "code",
   "execution_count": null,
   "metadata": {
    "collapsed": true
   },
   "outputs": [],
   "source": []
  }
 ],
 "metadata": {
  "kernelspec": {
   "display_name": "Python 2",
   "language": "python",
   "name": "python2"
  },
  "language_info": {
   "codemirror_mode": {
    "name": "ipython",
    "version": 2
   },
   "file_extension": ".py",
   "mimetype": "text/x-python",
   "name": "python",
   "nbconvert_exporter": "python",
   "pygments_lexer": "ipython2",
   "version": "2.7.10"
  }
 },
 "nbformat": 4,
 "nbformat_minor": 0
}
